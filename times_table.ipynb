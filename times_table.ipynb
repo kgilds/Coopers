{
 "cells": [
  {
   "cell_type": "markdown",
   "metadata": {},
   "source": [
    "#Cooper's Addition and Multiplcation Table Practice\n"
   ]
  },
  {
   "cell_type": "code",
   "execution_count": 42,
   "metadata": {},
   "outputs": [
    {
     "name": "stdout",
     "output_type": "stream",
     "text": [
      "This program calculates times tables\n"
     ]
    }
   ],
   "source": [
    "print (\"This program calculates times tables\")"
   ]
  },
  {
   "cell_type": "code",
   "execution_count": 43,
   "metadata": {},
   "outputs": [
    {
     "name": "stdout",
     "output_type": "stream",
     "text": [
      "It is from Raspberry Pi For Dummies\n"
     ]
    }
   ],
   "source": [
    "print (\"It is from Raspberry Pi For Dummies\")"
   ]
  },
  {
   "cell_type": "code",
   "execution_count": 44,
   "metadata": {},
   "outputs": [
    {
     "name": "stdout",
     "output_type": "stream",
     "text": [
      "\n",
      "Which Multiplication & Addition Table shall I generate for you?  4\n"
     ]
    }
   ],
   "source": [
    "tablenum = int (input(\"\\nWhich Multiplication & Addition Table shall I generate for you?  \"))"
   ]
  },
  {
   "cell_type": "code",
   "execution_count": null,
   "metadata": {},
   "outputs": [],
   "source": []
  },
  {
   "cell_type": "code",
   "execution_count": 45,
   "metadata": {},
   "outputs": [
    {
     "name": "stdout",
     "output_type": "stream",
     "text": [
      "\n",
      "Here is your 4 addition table:\n",
      "\n",
      "1 plus 4 is 5\n",
      "-------------------------------------\n",
      "2 plus 4 is 6\n",
      "-------------------------------------\n",
      "3 plus 4 is 7\n",
      "-------------------------------------\n",
      "4 plus 4 is 8\n",
      "-------------------------------------\n",
      "5 plus 4 is 9\n",
      "-------------------------------------\n",
      "6 plus 4 is 10\n",
      "-------------------------------------\n",
      "7 plus 4 is 11\n",
      "-------------------------------------\n",
      "8 plus 4 is 12\n",
      "-------------------------------------\n",
      "9 plus 4 is 13\n",
      "-------------------------------------\n",
      "10 plus 4 is 14\n",
      "-------------------------------------\n",
      "11 plus 4 is 15\n",
      "-------------------------------------\n",
      "12 plus 4 is 16\n",
      "-------------------------------------\n",
      "13 plus 4 is 17\n",
      "-------------------------------------\n",
      "14 plus 4 is 18\n",
      "-------------------------------------\n",
      "15 plus 4 is 19\n",
      "-------------------------------------\n",
      "16 plus 4 is 20\n",
      "-------------------------------------\n",
      "17 plus 4 is 21\n",
      "-------------------------------------\n",
      "18 plus 4 is 22\n",
      "-------------------------------------\n",
      "19 plus 4 is 23\n",
      "-------------------------------------\n",
      "20 plus 4 is 24\n",
      "-------------------------------------\n"
     ]
    }
   ],
   "source": [
    "print (\"\\nHere is your\", tablenum, \"addition table:\\n\")\n",
    "\n",
    "for i in range(1,21):\n",
    "    print (i, \"plus\", tablenum, \"is\", i + tablenum)\n",
    "    print (\"-------------------------------------\")\n",
    "           "
   ]
  },
  {
   "cell_type": "code",
   "execution_count": 46,
   "metadata": {},
   "outputs": [
    {
     "name": "stdout",
     "output_type": "stream",
     "text": [
      "\n"
     ]
    }
   ],
   "source": [
    "print()"
   ]
  },
  {
   "cell_type": "code",
   "execution_count": 47,
   "metadata": {},
   "outputs": [
    {
     "name": "stdout",
     "output_type": "stream",
     "text": [
      "\n",
      "Here is your 4 times table:\n",
      "\n",
      "---------------------------------\n",
      "1 times 4 is 4\n",
      "---------------------------------\n",
      "2 times 4 is 8\n",
      "---------------------------------\n",
      "3 times 4 is 12\n",
      "---------------------------------\n",
      "4 times 4 is 16\n",
      "---------------------------------\n",
      "5 times 4 is 20\n",
      "---------------------------------\n",
      "6 times 4 is 24\n",
      "---------------------------------\n",
      "7 times 4 is 28\n",
      "---------------------------------\n",
      "8 times 4 is 32\n",
      "---------------------------------\n",
      "9 times 4 is 36\n",
      "---------------------------------\n",
      "10 times 4 is 40\n",
      "---------------------------------\n",
      "11 times 4 is 44\n",
      "---------------------------------\n",
      "12 times 4 is 48\n",
      "---------------------------------\n",
      "13 times 4 is 52\n",
      "---------------------------------\n",
      "14 times 4 is 56\n",
      "---------------------------------\n",
      "15 times 4 is 60\n",
      "---------------------------------\n",
      "16 times 4 is 64\n",
      "---------------------------------\n",
      "17 times 4 is 68\n",
      "---------------------------------\n",
      "18 times 4 is 72\n",
      "---------------------------------\n",
      "19 times 4 is 76\n",
      "---------------------------------\n",
      "20 times 4 is 80\n",
      "---------------------------------\n"
     ]
    }
   ],
   "source": [
    "print (\"\\nHere is your\", tablenum, \"times table:\\n\")\n",
    "print (\"---------------------------------\")\n",
    "for i in range(1,21):\n",
    "    print (i, \"times\", tablenum, \"is\", i * tablenum)\n",
    "    print (\"---------------------------------\")\n",
    "           "
   ]
  },
  {
   "cell_type": "code",
   "execution_count": null,
   "metadata": {},
   "outputs": [],
   "source": []
  },
  {
   "cell_type": "code",
   "execution_count": null,
   "metadata": {},
   "outputs": [],
   "source": []
  }
 ],
 "metadata": {
  "kernelspec": {
   "display_name": "Python 3",
   "language": "python",
   "name": "python3"
  },
  "language_info": {
   "codemirror_mode": {
    "name": "ipython",
    "version": 3
   },
   "file_extension": ".py",
   "mimetype": "text/x-python",
   "name": "python",
   "nbconvert_exporter": "python",
   "pygments_lexer": "ipython3",
   "version": "3.6.5"
  }
 },
 "nbformat": 4,
 "nbformat_minor": 2
}
